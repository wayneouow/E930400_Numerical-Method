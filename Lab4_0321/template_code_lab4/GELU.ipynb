{
 "cells": [
  {
   "cell_type": "markdown",
   "id": "1785d7e9-b7b3-4cb8-b067-240769999d6d",
   "metadata": {},
   "source": [
    "### import the module you need first"
   ]
  },
  {
   "cell_type": "code",
   "execution_count": 23,
   "id": "313fb391-79e9-4b50-88b6-8f48c9d46df0",
   "metadata": {},
   "outputs": [],
   "source": [
    "import numpy as np"
   ]
  },
  {
   "cell_type": "markdown",
   "id": "db73bf73-205d-4f1d-86c7-b4c6983b3caf",
   "metadata": {},
   "source": [
    "## step1. \n",
    "#### Construct a numpy array represent the equations.\n",
    "#### the coefficients,answers and augmented matrix of each equation need to be stored separately."
   ]
  },
  {
   "cell_type": "code",
   "execution_count": 24,
   "id": "ad87b898-ac34-489a-b03c-17bf873adc7a",
   "metadata": {},
   "outputs": [
    {
     "name": "stdout",
     "output_type": "stream",
     "text": [
      "[[ 0.  5. -7.  7.]\n",
      " [ 4.  0. -1.  8.]\n",
      " [ 1. -1. -1.  9.]]\n"
     ]
    }
   ],
   "source": [
    "\"\"\"\n",
    "example:\n",
    " \n",
    "5y-7z = 7        | 0 5 -7 7 |\n",
    "4x-z = 8      -> | 4 0 -1 8 |\n",
    "x-y+z = 9        | 1 -1 1 9 |\n",
    "\"\"\"\n",
    "#construct an array \n",
    "#with float type\n",
    "arr = np.array([[0, 5, -7, 7], \n",
    "                [4, 0, -1, 8], \n",
    "                [1, -1, -1, 9]],float)\n",
    "print (arr)"
   ]
  },
  {
   "cell_type": "markdown",
   "id": "997cb39d-1f1c-4a0a-bb0a-337998aa9bee",
   "metadata": {},
   "source": [
    "## step2. \n",
    "### Before doing gauss elimination,\n",
    "### we need to check if the first element([0,0]) of the augmented matrix is zero or not.\n",
    "### If the first element is zero,\n",
    "### we need to find another row whose first element isn't zero,and change them."
   ]
  },
  {
   "cell_type": "code",
   "execution_count": 25,
   "id": "dd3f26c2-8e80-4fc7-9275-fdc3757f28a5",
   "metadata": {},
   "outputs": [],
   "source": [
    "#preprocess\n",
    "#check [0,0] \n",
    "for i in range(3):\n",
    "    if(arr[0,0] == 0): #if first element is zero, change the row\n",
    "        arr[[0,i]] = arr[[i,0]] #swap"
   ]
  },
  {
   "cell_type": "code",
   "execution_count": 26,
   "id": "c17a6dd0-6de4-4ec7-98c7-6c8108fa2637",
   "metadata": {
    "scrolled": false
   },
   "outputs": [
    {
     "name": "stdout",
     "output_type": "stream",
     "text": [
      "[[ 4.  0. -1.  8.]\n",
      " [ 0.  5. -7.  7.]\n",
      " [ 1. -1. -1.  9.]]\n"
     ]
    }
   ],
   "source": [
    "#test:step2\n",
    "#print the new augment matrixz\n",
    "print(arr)"
   ]
  },
  {
   "cell_type": "markdown",
   "id": "779517a5-46f4-4d1c-9b12-31d7bdafe95c",
   "metadata": {},
   "source": [
    "## step3. gauss elimination\n",
    "\n",
    "#### print the matrix after  gauss elimination"
   ]
  },
  {
   "cell_type": "code",
   "execution_count": 27,
   "id": "494bc074-c8f1-442c-a893-4aeecaaea4b9",
   "metadata": {},
   "outputs": [],
   "source": [
    "def GaussElimination(A):\n",
    "    arr = A\n",
    "    n = arr.shape[0] #get num of rows\n",
    "    for i in range(n):\n",
    "        for j in range(i+1, n): #echelon form\n",
    "            if(arr[j][i]!=0):  #check   \n",
    "                p = arr[j][i]/arr[i][i] # get ratio\n",
    "                #row to row operation\n",
    "                for k in range(n+1): #scan columns\n",
    "                    arr[j][k] = arr[j][k] - p*arr[i][k] \n",
    "    return arr"
   ]
  },
  {
   "cell_type": "code",
   "execution_count": 28,
   "id": "b7b93b27-512b-460a-b3e8-243b1037a772",
   "metadata": {},
   "outputs": [
    {
     "name": "stdout",
     "output_type": "stream",
     "text": [
      "the augment matrix after gauss elimination :\n",
      "\n",
      "[[ 4.    0.   -1.    8.  ]\n",
      " [ 0.    5.   -7.    7.  ]\n",
      " [ 0.    0.   -2.15  8.4 ]]\n"
     ]
    }
   ],
   "source": [
    "#test:step3\n",
    "#print the augment matrix after gauss elimination\n",
    "\n",
    "print(\"the augment matrix after gauss elimination :\\n\")   \n",
    "print(GaussElimination(arr))"
   ]
  },
  {
   "cell_type": "markdown",
   "id": "ba7b24d1-c4de-4011-bb69-36e62982facd",
   "metadata": {},
   "source": [
    "## step4. LU decomposition(bonus)\n",
    "\n",
    "## if you don't want to submit bouns,you don't need to do  step4 and step5"
   ]
  },
  {
   "cell_type": "code",
   "execution_count": 29,
   "id": "bfd7787a-d232-4211-b394-9f3e453236cd",
   "metadata": {},
   "outputs": [],
   "source": [
    "def LU(A):\n",
    "    \n",
    "    U = A \n",
    "    n = U.shape[0] #get num. of row\n",
    "    L = np.zeros([n,n]) #construct 2D zero array \n",
    "    \n",
    "    #check and avoid first element being zero\n",
    "    for i in range(n):\n",
    "        if(U[0,0] == 0):\n",
    "            U[[0,i]] = U[[i,0]]\n",
    "    #diagonal of L must be 1\n",
    "    for i in range(n):\n",
    "        L[i][i] = 1\n",
    "    #use gauss elimination and complete of L&U\n",
    "    for i in range(n):\n",
    "        for j in range(i+1, n):\n",
    "            if(U[j][i]!=0):    \n",
    "                p = U[j][i]/U[i][i] #ratio\n",
    "                L[j][i] = p\n",
    "                #row to row operation\n",
    "                for k in range(n):\n",
    "                    U[j][k] = U[j][k] - p*U[i][k]\n",
    "    return L, U"
   ]
  },
  {
   "cell_type": "code",
   "execution_count": 30,
   "id": "6a08b2d3-ea8d-487b-b56d-6cccfc0e8283",
   "metadata": {},
   "outputs": [
    {
     "name": "stdout",
     "output_type": "stream",
     "text": [
      "L: \n",
      "[[ 1.    0.    0.  ]\n",
      " [ 0.    1.    0.  ]\n",
      " [ 0.25 -0.2   1.  ]]\n",
      "U: \n",
      "[[ 4.    0.   -1.  ]\n",
      " [ 0.    5.   -7.  ]\n",
      " [ 0.    0.   -2.15]]\n"
     ]
    }
   ],
   "source": [
    "#print L and U\n",
    "#construct an array \n",
    "#with float type\n",
    "A = np.array([[0, 5, -7], \n",
    "              [4, 0, -1], \n",
    "              [1, -1, -1]],float)\n",
    "Lower, Upper = LU(A)\n",
    "print(\"L: \")\n",
    "print(Lower)\n",
    "print(\"U: \")\n",
    "print(Upper)"
   ]
  },
  {
   "cell_type": "markdown",
   "id": "d8296438-bc7c-4eb5-b53f-d688ef7b9101",
   "metadata": {},
   "source": [
    "## step5. check the ansewer of LU(bonus)\n",
    "\n",
    "please use the function in scipy.linalg to check your answer\n",
    "\n",
    "the documentatin of scipy.linalg :\n",
    "https://docs.scipy.org/doc/scipy/reference/linalg.html"
   ]
  },
  {
   "cell_type": "code",
   "execution_count": 31,
   "id": "f4ea710a-bab4-4071-a397-a6db0e8bb3b9",
   "metadata": {},
   "outputs": [],
   "source": [
    "import scipy.linalg as la"
   ]
  },
  {
   "cell_type": "code",
   "execution_count": 32,
   "id": "d8071834-e0d6-4fc4-a878-6822d5facce7",
   "metadata": {
    "scrolled": true
   },
   "outputs": [
    {
     "name": "stdout",
     "output_type": "stream",
     "text": [
      "L:\n",
      "[[ 1.    0.    0.  ]\n",
      " [ 0.    1.    0.  ]\n",
      " [ 0.25 -0.2   1.  ]]\n",
      "U:\n",
      "[[ 4.    0.   -1.  ]\n",
      " [ 0.    5.   -7.  ]\n",
      " [ 0.    0.   -2.15]]\n"
     ]
    }
   ],
   "source": [
    "A = np.array([[0, 5, -7], \n",
    "              [4, 0, -1], \n",
    "              [1, -1, -1]],float)\n",
    "P, L, U = la.lu(A)\n",
    "print(\"L:\")\n",
    "print(L)\n",
    "print(\"U:\")\n",
    "print(U)"
   ]
  }
 ],
 "metadata": {
  "kernelspec": {
   "display_name": "Python 3 (ipykernel)",
   "language": "python",
   "name": "python3"
  },
  "language_info": {
   "codemirror_mode": {
    "name": "ipython",
    "version": 3
   },
   "file_extension": ".py",
   "mimetype": "text/x-python",
   "name": "python",
   "nbconvert_exporter": "python",
   "pygments_lexer": "ipython3",
   "version": "3.9.7"
  }
 },
 "nbformat": 4,
 "nbformat_minor": 5
}
