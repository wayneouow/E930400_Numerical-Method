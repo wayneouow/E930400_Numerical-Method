{
 "cells": [
  {
   "cell_type": "code",
   "execution_count": 5,
   "id": "1f775962",
   "metadata": {},
   "outputs": [],
   "source": [
    "def remove_outliers(n):\n",
    "\n",
    "    data = []\n",
    "    outliers = []\n",
    "\n",
    "    while(True):\n",
    "        cmd = input(\"Enter a value (q or Q to quit): \")\n",
    "        if(cmd == \"q\" or cmd == \"Q\"):\n",
    "            print(\"The original data: \",data)\n",
    "            break\n",
    "        else:\n",
    "            cmd = int(cmd)\n",
    "            data.append(cmd)\n",
    "            #print(data)\n",
    "\n",
    "    data_sorted = sorted(data)\n",
    "    #print(data_sorted)\n",
    "\n",
    "#     for i in range(n):\n",
    "#         outliers.append(data_sorted.pop(0))\n",
    "#     for i in range(n):\n",
    "#         outliers.append(data_sorted.pop())\n",
    "    #outliers.extend(data_sorted[:n])\n",
    "    outliers += data_sorted[:n]\n",
    "    #outliers.extend(data_sorted[-n:])\n",
    "    outliers += data_sorted[-n:]\n",
    "    \n",
    "    data_sorted = data_sorted[n : -n]\n",
    "    \n",
    "    print(\"The data with the outliers removed: \", data_sorted)\n",
    "    print(\"The outliers: \", outliers)"
   ]
  },
  {
   "cell_type": "code",
   "execution_count": 4,
   "id": "dbdf43b6",
   "metadata": {
    "scrolled": true
   },
   "outputs": [
    {
     "name": "stdout",
     "output_type": "stream",
     "text": [
      "Enter the number of smallest and largest values to remove: 2\n"
     ]
    }
   ],
   "source": [
    "n = int(input(\"Enter the number of smallest and largest values to remove: \"))"
   ]
  },
  {
   "cell_type": "code",
   "execution_count": 6,
   "id": "dfe61eb2",
   "metadata": {
    "scrolled": true
   },
   "outputs": [
    {
     "name": "stdout",
     "output_type": "stream",
     "text": [
      "Enter a value (q or Q to quit): 1001\n",
      "Enter a value (q or Q to quit): 2001\n",
      "Enter a value (q or Q to quit): 1\n",
      "Enter a value (q or Q to quit): 2\n",
      "Enter a value (q or Q to quit): -1001\n",
      "Enter a value (q or Q to quit): -20\n",
      "Enter a value (q or Q to quit): 5\n",
      "Enter a value (q or Q to quit): 4\n",
      "Enter a value (q or Q to quit): 3\n",
      "Enter a value (q or Q to quit): 1\n",
      "Enter a value (q or Q to quit): 2\n",
      "Enter a value (q or Q to quit): 3\n",
      "Enter a value (q or Q to quit): Q\n",
      "The original data:  [1001, 2001, 1, 2, -1001, -20, 5, 4, 3, 1, 2, 3]\n",
      "The data with the outliers removed:  [1, 1, 2, 2, 3, 3, 4, 5]\n",
      "The outliers:  [-1001, -20, 1001, 2001]\n"
     ]
    }
   ],
   "source": [
    "remove_outliers(n)"
   ]
  }
 ],
 "metadata": {
  "kernelspec": {
   "display_name": "Python 3 (ipykernel)",
   "language": "python",
   "name": "python3"
  },
  "language_info": {
   "codemirror_mode": {
    "name": "ipython",
    "version": 3
   },
   "file_extension": ".py",
   "mimetype": "text/x-python",
   "name": "python",
   "nbconvert_exporter": "python",
   "pygments_lexer": "ipython3",
   "version": "3.10.9"
  }
 },
 "nbformat": 4,
 "nbformat_minor": 5
}
