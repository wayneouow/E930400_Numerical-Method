{
 "cells": [
  {
   "cell_type": "code",
   "execution_count": 1,
   "id": "8d9f8949",
   "metadata": {},
   "outputs": [],
   "source": [
    "import random"
   ]
  },
  {
   "cell_type": "code",
   "execution_count": 2,
   "id": "13f0557a",
   "metadata": {},
   "outputs": [],
   "source": [
    "win = False\n",
    "loss_cnt = 0\n",
    "tie_cnt = 0"
   ]
  },
  {
   "cell_type": "code",
   "execution_count": 3,
   "id": "f4c5f076",
   "metadata": {
    "scrolled": true
   },
   "outputs": [
    {
     "name": "stdout",
     "output_type": "stream",
     "text": [
      "Welcome to ROCK, PAPER, SCISSORS game!\n"
     ]
    }
   ],
   "source": [
    "print(\"Welcome to ROCK, PAPER, SCISSORS game!\")"
   ]
  },
  {
   "cell_type": "code",
   "execution_count": 4,
   "id": "ddc45229",
   "metadata": {},
   "outputs": [
    {
     "name": "stdout",
     "output_type": "stream",
     "text": [
      "Enter your move: (r)ock (p)aper (s)cissorss\n",
      "SCISSORS  versus...\n",
      "ROCK\n",
      "You lose!\n",
      "Enter your move: (r)ock (p)aper (s)cissorss\n",
      "SCISSORS  versus...\n",
      "ROCK\n",
      "You lose!\n",
      "Enter your move: (r)ock (p)aper (s)cissorss\n",
      "SCISSORS  versus...\n",
      "ROCK\n",
      "You lose!\n",
      "Enter your move: (r)ock (p)aper (s)cissorss\n",
      "SCISSORS  versus...\n",
      "ROCK\n",
      "You lose!\n",
      "Enter your move: (r)ock (p)aper (s)cissorss\n",
      "SCISSORS  versus...\n",
      "ROCK\n",
      "You lose!\n",
      "Enter your move: (r)ock (p)aper (s)cissorss\n",
      "SCISSORS  versus...\n",
      "ROCK\n",
      "You lose!\n",
      "Enter your move: (r)ock (p)aper (s)cissorss\n",
      "SCISSORS  versus...\n",
      "PAPER\n",
      "You win!\n"
     ]
    }
   ],
   "source": [
    "while win == False:\n",
    "    player_input = input(\"Enter your move: (r)ock (p)aper (s)cissors\")\n",
    "    match player_input:\n",
    "        case \"r\"|\"rock\":\n",
    "            player_choice = \"ROCK\"\n",
    "        case \"p\"|\"paper\":\n",
    "             player_choice = \"PAPER\"\n",
    "        case \"s\"|\"scissors\":\n",
    "             player_choice = \"SCISSORS\"\n",
    "        case _:\n",
    "            player_choice = \"ERROR\"\n",
    "    print(player_choice,\" versus...\")\n",
    "    rps_action = [\"ROCK\", \"PAPER\", \"SCISSORS\"]\n",
    "    opponent_choice = rps_action[random.randint(0,2)]\n",
    "    print(opponent_choice)\n",
    "    if(player_choice == opponent_choice):\n",
    "        print(\"It is a tie!\")\n",
    "        tie_cnt += 1\n",
    "    elif(player_choice == \"ROCK\"):\n",
    "        if(opponent_choice == \"SCISSORS\"):\n",
    "            print(\"You win!\")\n",
    "            win = True\n",
    "        else:\n",
    "            print(\"You lose!\")\n",
    "            loss_cnt += 1\n",
    "    elif(player_choice == \"PAPER\"):\n",
    "        if(opponent_choice == \"ROCK\"):\n",
    "            print(\"You win!\")\n",
    "            win = True\n",
    "        else:\n",
    "            print(\"You lose!\")\n",
    "            loss_cnt += 1\n",
    "    elif(player_choice == \"SCISSORS\"):\n",
    "        if(opponent_choice == \"PAPER\"):\n",
    "            print(\"You win!\")\n",
    "            win = True\n",
    "        else:\n",
    "            print(\"You lose!\")\n",
    "            loss_cnt += 1\n"
   ]
  },
  {
   "cell_type": "code",
   "execution_count": 5,
   "id": "e5e9f399",
   "metadata": {},
   "outputs": [
    {
     "name": "stdout",
     "output_type": "stream",
     "text": [
      "You have  0  ties and  6  losses before your first win.\n"
     ]
    }
   ],
   "source": [
    "print(\"You have \",tie_cnt,\" ties and \",loss_cnt,\" losses before your first win.\")"
   ]
  }
 ],
 "metadata": {
  "kernelspec": {
   "display_name": "Python 3 (ipykernel)",
   "language": "python",
   "name": "python3"
  },
  "language_info": {
   "codemirror_mode": {
    "name": "ipython",
    "version": 3
   },
   "file_extension": ".py",
   "mimetype": "text/x-python",
   "name": "python",
   "nbconvert_exporter": "python",
   "pygments_lexer": "ipython3",
   "version": "3.10.9"
  }
 },
 "nbformat": 4,
 "nbformat_minor": 5
}
