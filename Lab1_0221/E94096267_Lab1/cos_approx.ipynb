{
 "cells": [
  {
   "cell_type": "code",
   "execution_count": 1,
   "id": "a5df3542",
   "metadata": {},
   "outputs": [],
   "source": [
    "import math"
   ]
  },
  {
   "cell_type": "code",
   "execution_count": 2,
   "id": "704b0847",
   "metadata": {},
   "outputs": [
    {
     "name": "stdout",
     "output_type": "stream",
     "text": [
      "Enter rad: 2.3\n",
      "cos( 2.3 ) approximation is  -0.6662760212798241\n"
     ]
    }
   ],
   "source": [
    "rad = input(\"Enter rad: \")\n",
    "rad = float(rad)\n",
    "cos_val = 0.0\n",
    "for n in range(0, 25, 2):\n",
    "    if(n%4 == 0):\n",
    "        cos_val += (rad**n) / math.factorial(n)\n",
    "    else:\n",
    "        cos_val -= (rad**n) / math.factorial(n)\n",
    "print(\"cos(\",rad,\") approximation is \",cos_val)"
   ]
  }
 ],
 "metadata": {
  "kernelspec": {
   "display_name": "Python 3 (ipykernel)",
   "language": "python",
   "name": "python3"
  },
  "language_info": {
   "codemirror_mode": {
    "name": "ipython",
    "version": 3
   },
   "file_extension": ".py",
   "mimetype": "text/x-python",
   "name": "python",
   "nbconvert_exporter": "python",
   "pygments_lexer": "ipython3",
   "version": "3.10.9"
  }
 },
 "nbformat": 4,
 "nbformat_minor": 5
}
