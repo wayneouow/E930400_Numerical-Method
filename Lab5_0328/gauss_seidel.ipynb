{
 "cells": [
  {
   "cell_type": "code",
   "execution_count": 16,
   "metadata": {},
   "outputs": [],
   "source": [
    "import numpy as np\n",
    "from copy import deepcopy"
   ]
  },
  {
   "cell_type": "markdown",
   "metadata": {},
   "source": [
    "##### Write the function for check the matrix is diagonally dominant"
   ]
  },
  {
   "cell_type": "code",
   "execution_count": 17,
   "metadata": {},
   "outputs": [],
   "source": [
    "def check_diagonally(a):\n",
    "    # Find diagonal coefficients\n",
    "    # diag = ...\n",
    "    n = len(a)\n",
    "    diag = np.zeros(n, dtype = float)\n",
    "    # store diagonal coefficients\n",
    "    for i in range(n):\n",
    "        diag[i] = a[i][i]\n",
    "        \n",
    "    # create 1D arr in float to sum of non-diag\n",
    "    off_diag = np.zeros(n, dtype = float) \n",
    "    for i in range(n):\n",
    "        for j in range(n):\n",
    "            #sum row elements with diagonal coefficients\n",
    "            off_diag[i] =  off_diag[i] if(i==j) else off_diag[i]+a[i][j]\n",
    "                \n",
    "    if np.all(diag > off_diag):\n",
    "        print(\"matrix is diagonally dominant\")\n",
    "    else:\n",
    "        print(\"NOT diagonally dominant\")"
   ]
  },
  {
   "cell_type": "markdown",
   "metadata": {},
   "source": [
    "##### Wirte the funtion for Gauss-Seidel method"
   ]
  },
  {
   "cell_type": "code",
   "execution_count": 18,
   "metadata": {},
   "outputs": [],
   "source": [
    "def Gauss_Seidel(a, x, y, it, epsilon):\n",
    "    converged = False\n",
    "    x_old = np.zeros(a.shape[0])\n",
    "    print(\"Iteration results\") \n",
    "    print(\" k,    x1,      x2,       x3 \")\n",
    "\n",
    "    # nXn matrix\n",
    "    n = a.shape[0]\n",
    "    #loop for iteration\n",
    "    for k in range(it):\n",
    "        \n",
    "        #scan rows\n",
    "        for i in range(n):\n",
    "            #sum initialize\n",
    "            s = 0\n",
    "            #sum(a*x)without diag\n",
    "            for j in range(n):\n",
    "                if(i!=j):\n",
    "                    s+= a[i][j]*x_old[j]\n",
    "            #get new x\n",
    "            x[i] = (y[i]-s)/a[i][i]\n",
    "            \n",
    "        # k iteration times\n",
    "        print('%2s' %(k+1), end='   ')\n",
    "        # output x in proper format\n",
    "        for idx in range(n):\n",
    "            print(format(x[idx],'.4f'), end='   ')\n",
    "        print(\"\\n\")\n",
    "        # check if x converged\n",
    "        dif = np.linalg.norm(x-x_old)\n",
    "        if(dif < epsilon):\n",
    "            converged = True\n",
    "            print(\"Converged!\")\n",
    "            break\n",
    "        #assign the latest x value to the old value\n",
    "        x_old = deepcopy(x)\n",
    "\n",
    "    return x"
   ]
  },
  {
   "cell_type": "markdown",
   "metadata": {},
   "source": [
    "# Sample 1"
   ]
  },
  {
   "cell_type": "code",
   "execution_count": 19,
   "metadata": {},
   "outputs": [
    {
     "name": "stdout",
     "output_type": "stream",
     "text": [
      "matrix is diagonally dominant\n"
     ]
    }
   ],
   "source": [
    "a = np.array([[5, -1, -3], [2, 9, 3], [2, 4, 8]])\n",
    "\n",
    "check_diagonally(a)"
   ]
  },
  {
   "cell_type": "code",
   "execution_count": 20,
   "metadata": {},
   "outputs": [
    {
     "name": "stdout",
     "output_type": "stream",
     "text": [
      "Iteration results\n",
      " k,    x1,      x2,       x3 \n",
      " 1   2.8000   0.5556   -1.0000   \n",
      "\n",
      " 2   2.3111   0.2667   -1.9778   \n",
      "\n",
      " 3   1.6667   0.7012   -1.7111   \n",
      "\n",
      " 4   1.9136   0.7556   -1.7673   \n",
      "\n",
      " 5   1.8907   0.7194   -1.8562   \n",
      "\n",
      " 6   1.8302   0.7541   -1.8324   \n",
      "\n",
      " 7   1.8514   0.7596   -1.8346   \n",
      "\n",
      " 8   1.8512   0.7557   -1.8427   \n",
      "\n",
      " 9   1.8455   0.7584   -1.8406   \n",
      "\n",
      "10   1.8473   0.7590   -1.8406   \n",
      "\n",
      "11   1.8474   0.7586   -1.8413   \n",
      "\n",
      "12   1.8469   0.7588   -1.8411   \n",
      "\n",
      "13   1.8471   0.7588   -1.8411   \n",
      "\n",
      "14   1.8471   0.7588   -1.8412   \n",
      "\n",
      "Converged!\n",
      "\n",
      "Check\n",
      "my solve: [ 1.84709462  0.75880367 -1.84118893]\n",
      "np solve: [ 1.84705882  0.75882353 -1.84117647]\n"
     ]
    }
   ],
   "source": [
    "a = np.array([[5, -1, -3], [2, 9, 3], [2, 4, 8]])\n",
    "x = np.zeros(a.shape[0])\n",
    "y = np.array([14, 5, -8])\n",
    "\n",
    "x = Gauss_Seidel(a, x, y, it=50, epsilon=0.0001)\n",
    "print('')\n",
    "print('Check')\n",
    "print('my solve:',x)\n",
    "x = np.linalg.solve(a, y)\n",
    "print('np solve:',x)"
   ]
  },
  {
   "cell_type": "markdown",
   "metadata": {},
   "source": [
    "# Sample 2"
   ]
  },
  {
   "cell_type": "code",
   "execution_count": 21,
   "metadata": {},
   "outputs": [
    {
     "name": "stdout",
     "output_type": "stream",
     "text": [
      "matrix is diagonally dominant\n"
     ]
    }
   ],
   "source": [
    "a = np.array([[12, 3, -5, 2], [1, 7, 3, 1], [3, 7, 13, -2], [-2, 2, 5, 20]])\n",
    "\n",
    "check_diagonally(a)"
   ]
  },
  {
   "cell_type": "code",
   "execution_count": 22,
   "metadata": {},
   "outputs": [
    {
     "name": "stdout",
     "output_type": "stream",
     "text": [
      "Iteration results\n",
      " k,    x1,      x2,       x3 \n",
      " 1   0.8333   0.8571   0.2308   0.1000   \n",
      "\n",
      " 2   0.6985   0.6249   -0.4077   0.0399   \n",
      "\n",
      " 3   0.5006   0.9264   -0.2608   0.2093   \n",
      "\n",
      " 4   0.4582   0.8675   -0.3514   0.1226   \n",
      "\n",
      " 5   0.4496   0.9248   -0.3232   0.1469   \n",
      "\n",
      " 6   0.4430   0.9104   -0.3483   0.1333   \n",
      "\n",
      " 7   0.4384   0.9241   -0.3412   0.1403   \n",
      "\n",
      " 8   0.4368   0.9207   -0.3464   0.1367   \n",
      "\n",
      " 9   0.4360   0.9237   -0.3447   0.1382   \n",
      "\n",
      "10   0.4357   0.9229   -0.3460   0.1374   \n",
      "\n",
      "11   0.4356   0.9235   -0.3456   0.1378   \n",
      "\n",
      "12   0.4355   0.9233   -0.3458   0.1376   \n",
      "\n",
      "13   0.4355   0.9235   -0.3457   0.1377   \n",
      "\n",
      "14   0.4355   0.9234   -0.3458   0.1376   \n",
      "\n",
      "Converged!\n",
      "\n",
      "Check\n",
      "my solve: [ 0.43545583  0.92344103 -0.34580485  0.13763416]\n",
      "np solve: [ 0.43544344  0.92347075 -0.34579489  0.13764599]\n"
     ]
    }
   ],
   "source": [
    "a = np.array([[12, 3, -5, 2], [1, 7, 3, 1], [3, 7, 13, -2], [-2, 2, 5, 20]])\n",
    "x = np.zeros(a.shape[0])\n",
    "y = np.array([10, 6, 3, 2])\n",
    "\n",
    "x = Gauss_Seidel(a, x, y, it=50, epsilon=0.0001)\n",
    "print('')\n",
    "print('Check')\n",
    "print('my solve:',x)\n",
    "x = np.linalg.solve(a, y)\n",
    "print('np solve:',x)"
   ]
  },
  {
   "cell_type": "code",
   "execution_count": null,
   "metadata": {},
   "outputs": [],
   "source": []
  },
  {
   "cell_type": "code",
   "execution_count": null,
   "metadata": {},
   "outputs": [],
   "source": []
  }
 ],
 "metadata": {
  "kernelspec": {
   "display_name": "Python 3 (ipykernel)",
   "language": "python",
   "name": "python3"
  },
  "language_info": {
   "codemirror_mode": {
    "name": "ipython",
    "version": 3
   },
   "file_extension": ".py",
   "mimetype": "text/x-python",
   "name": "python",
   "nbconvert_exporter": "python",
   "pygments_lexer": "ipython3",
   "version": "3.9.7"
  }
 },
 "nbformat": 4,
 "nbformat_minor": 4
}
