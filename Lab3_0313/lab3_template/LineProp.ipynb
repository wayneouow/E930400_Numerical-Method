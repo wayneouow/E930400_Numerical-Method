{
 "cells": [
  {
   "cell_type": "code",
   "execution_count": 3,
   "id": "IyRa87YZWyKm",
   "metadata": {
    "executionInfo": {
     "elapsed": 4,
     "status": "ok",
     "timestamp": 1678501932164,
     "user": {
      "displayName": "吳蕙瑜 HUI YU WU N96114467",
      "userId": "11903892810699653447"
     },
     "user_tz": -480
    },
    "id": "IyRa87YZWyKm"
   },
   "outputs": [],
   "source": [
    "# define parameter for plt\n",
    "linewidths = [0.5, 1.0, 2.0, 4.0]\n",
    "linestyles = ['-', '--', '-.', ':']\n",
    "markers = ['+', 'o', '*', 's', '.', '1', '2', '3', '4']\n",
    "markersizecolors = [(4, \"white\"), (8, \"red\"), (12, \"yellow\"), (16, \"lightgreen\")] #tuple in list"
   ]
  },
  {
   "cell_type": "code",
   "execution_count": 4,
   "id": "b8RWvUtqWyKq",
   "metadata": {
    "colab": {
     "base_uri": "https://localhost:8080/",
     "height": 227
    },
    "executionInfo": {
     "elapsed": 1510,
     "status": "ok",
     "timestamp": 1678501934141,
     "user": {
      "displayName": "吳蕙瑜 HUI YU WU N96114467",
      "userId": "11903892810699653447"
     },
     "user_tz": -480
    },
    "id": "b8RWvUtqWyKq",
    "outputId": "03629335-036f-4fc6-e277-b639575ae0c2"
   },
   "outputs": [
    {
     "data": {
      "image/png": "[encoded data removed]",
      "text/plain": [
       "<Figure size 1152x216 with 4 Axes>"
      ]
     },
     "metadata": {},
     "output_type": "display_data"
    }
   ],
   "source": [
    "import numpy as np\n",
    "import matplotlib.pyplot as plt\n",
    "x = np.linspace(-5, 5, 5)\n",
    "y = np.ones_like(x)                                        # return an array of 1 with the same shape and type as x. \n",
    "def axes_settings(fig, ax, title, ymax):\n",
    "    ax.set_xticks([])                                      # No xticks\n",
    "    ax.set_yticks([])                                      # No yticks\n",
    "    ax.set_ylim(0, ymax+1)                                 # Set y axis limit\n",
    "    ax.set_title(title)                                    # Set fig title \n",
    "\n",
    "fig, axes = plt.subplots(1, 4, figsize=(16,3))             # create a figure with 1 row X 4 columns subfig \n",
    "# Line width\n",
    "for n, linewidth in enumerate(linewidths):                 # enumerate returns index and value\n",
    "    \n",
    "    #plot subfig0 with n y-axes\n",
    "    #set color / linewidth\n",
    "    \n",
    "    axes[0].plot(x, y + n, color=\"blue\", linewidth=linewidth)\n",
    "\n",
    "axes_settings(fig, axes[0], \"linewidth\", len(linewidths))\n",
    "\n",
    "# Line style\n",
    "for n, linestyle in enumerate(linestyles):                 # enumerate returns index and value\n",
    "    \n",
    "    #plot subfig1 with n y-axes\n",
    "    #set color / linestyle\n",
    "    \n",
    "    axes[1].plot(x, y + n, color=\"blue\", linestyle=linestyle)\n",
    "axes_settings(fig, axes[1], \"linetypes\", len(linestyles))\n",
    "\n",
    "# Marker\n",
    "for n, marker in enumerate(markers):                       # enumerate returns index and value\n",
    "    \n",
    "    #plot subfig2 with n y-axes\n",
    "    #set color / marker \n",
    "    #without line\n",
    "    \n",
    "    axes[2].plot(x, y + n, color=\"blue\",linestyle='None', marker=marker)\n",
    "axes_settings(fig, axes[2], \"markers\", len(markers))\n",
    "\n",
    "# marker size/color\n",
    "for n, (size, color) in enumerate(markersizecolors):       # enumerate returns index and value\n",
    "    \n",
    "    #plot subfig3 with n y-axes\n",
    "    #set marker / markersize / markerfacecolor / markeredgecolor / markeredgewidth\n",
    "    #without line\n",
    "    axes[3].plot(x, y + n,linestyle='None', marker='o', ms = markersizecolors[n][0] ,mfc = markersizecolors[n][1], mec = 'blue', mew = 2)\n",
    "axes_settings(fig, axes[3], \"marker size/color\", len(markersizecolors))"
   ]
  },
  {
   "cell_type": "code",
   "execution_count": null,
   "id": "2L_rLBAkgr5d",
   "metadata": {
    "id": "2L_rLBAkgr5d"
   },
   "outputs": [],
   "source": []
  }
 ],
 "metadata": {
  "colab": {
   "provenance": []
  },
  "kernelspec": {
   "display_name": "Python 3 (ipykernel)",
   "language": "python",
   "name": "python3"
  },
  "language_info": {
   "codemirror_mode": {
    "name": "ipython",
    "version": 3
   },
   "file_extension": ".py",
   "mimetype": "text/x-python",
   "name": "python",
   "nbconvert_exporter": "python",
   "pygments_lexer": "ipython3",
   "version": "3.9.7"
  }
 },
 "nbformat": 4,
 "nbformat_minor": 5
}
