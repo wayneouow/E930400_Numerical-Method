{
 "cells": [
  {
   "cell_type": "code",
   "execution_count": 35,
   "id": "99ff6123",
   "metadata": {},
   "outputs": [],
   "source": [
    "class Map:\n",
    "    def __init__(self, n, p):\n",
    "        \"\"\"\n",
    "        initialize by n\n",
    "        \"\"\"\n",
    "        # create objects\n",
    "        self.n = n\n",
    "        self.p = p\n",
    "        \n",
    "        if p==1:\n",
    "            \"\"\"\n",
    "            construct square inside the Map\n",
    "            \"\"\"\n",
    "            square = [[] for i in range(n)]\n",
    "            \n",
    "            for i in range(n):\n",
    "                for j in range(n):\n",
    "                    # edge\n",
    "                    if(i==0 or i== n-1 or j == 0 or j == n-1):\n",
    "                        square[i].append(\"*\")\n",
    "                    # internal\n",
    "                    else:\n",
    "                        square[i].append(\"o\")\n",
    "        else:\n",
    "            square = [[] for i in range(n)]\n",
    "            #fill with x\n",
    "            for i in range(n):\n",
    "                for j in range(n):\n",
    "                    square[i].append(\"*\")\n",
    "        # matrix objects\n",
    "        self.square = square\n",
    "                \n",
    "    def display(self):\n",
    "        \"\"\"\n",
    "        display the map\n",
    "        \"\"\"\n",
    "        for x in range(self.n):\n",
    "            for y in range(self.n):\n",
    "                print(self.square[x][y],end='   ' ) #avoid new line\n",
    "            print(\"\\n\")"
   ]
  },
  {
   "cell_type": "code",
   "execution_count": 36,
   "id": "c6222f7c",
   "metadata": {},
   "outputs": [
    {
     "name": "stdout",
     "output_type": "stream",
     "text": [
      "*   *   *   *   *   *   *   *   *   *   \n",
      "\n",
      "*   o   o   o   o   o   o   o   o   *   \n",
      "\n",
      "*   o   o   o   o   o   o   o   o   *   \n",
      "\n",
      "*   o   o   o   o   o   o   o   o   *   \n",
      "\n",
      "*   o   o   o   o   o   o   o   o   *   \n",
      "\n",
      "*   o   o   o   o   o   o   o   o   *   \n",
      "\n",
      "*   o   o   o   o   o   o   o   o   *   \n",
      "\n",
      "*   o   o   o   o   o   o   o   o   *   \n",
      "\n",
      "*   o   o   o   o   o   o   o   o   *   \n",
      "\n",
      "*   *   *   *   *   *   *   *   *   *   \n",
      "\n"
     ]
    }
   ],
   "source": [
    "my_map = Map(10, 1)\n",
    "my_map.display()"
   ]
  },
  {
   "cell_type": "code",
   "execution_count": 37,
   "id": "1dcfc6a2",
   "metadata": {},
   "outputs": [
    {
     "name": "stdout",
     "output_type": "stream",
     "text": [
      "*   *   *   *   *   *   *   \n",
      "\n",
      "*   *   *   *   *   *   *   \n",
      "\n",
      "*   *   *   *   *   *   *   \n",
      "\n",
      "*   *   *   *   *   *   *   \n",
      "\n",
      "*   *   *   *   *   *   *   \n",
      "\n",
      "*   *   *   *   *   *   *   \n",
      "\n",
      "*   *   *   *   *   *   *   \n",
      "\n"
     ]
    }
   ],
   "source": [
    "my_map = Map(7, 2)\n",
    "my_map.display()"
   ]
  },
  {
   "cell_type": "code",
   "execution_count": null,
   "id": "c14ac8e7",
   "metadata": {},
   "outputs": [],
   "source": []
  }
 ],
 "metadata": {
  "kernelspec": {
   "display_name": "Python 3 (ipykernel)",
   "language": "python",
   "name": "python3"
  },
  "language_info": {
   "codemirror_mode": {
    "name": "ipython",
    "version": 3
   },
   "file_extension": ".py",
   "mimetype": "text/x-python",
   "name": "python",
   "nbconvert_exporter": "python",
   "pygments_lexer": "ipython3",
   "version": "3.9.7"
  }
 },
 "nbformat": 4,
 "nbformat_minor": 5
}
